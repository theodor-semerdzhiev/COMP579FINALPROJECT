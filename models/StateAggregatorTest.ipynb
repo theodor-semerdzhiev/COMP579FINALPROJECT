{
 "cells": [
  {
   "cell_type": "markdown",
   "id": "06d9277c",
   "metadata": {},
   "source": [
    "# Testing the state aggregator"
   ]
  },
  {
   "cell_type": "code",
   "execution_count": 38,
   "id": "780fbbbd",
   "metadata": {},
   "outputs": [
    {
     "name": "stdout",
     "output_type": "stream",
     "text": [
      "The autoreload extension is already loaded. To reload it, use:\n",
      "  %reload_ext autoreload\n"
     ]
    }
   ],
   "source": [
    "%load_ext autoreload\n",
    "%autoreload 2"
   ]
  },
  {
   "cell_type": "code",
   "execution_count": 40,
   "id": "29e8883b",
   "metadata": {},
   "outputs": [
    {
     "name": "stdout",
     "output_type": "stream",
     "text": [
      "Input states\n",
      "[1, 0.2, 2, 0.4, 3, 0.7, 4, 0.6, 1, 10, 1.9, 4]\n",
      "[5, 0.8, 7, 0.2, 1, 0.1, 4, 0.4, 1, 17, 1.5, 4]\n",
      "[9, 0.7, 8, 0.9, 2, 0.1, 9, 0.1, 1, 28, 1.8000000000000003, 4]\n",
      "[3, 1.5, 1, 2.0, 1, 0.3, 4, 0.2, 1, 9, 4.0, 4]\n",
      "\n",
      "Output states\n",
      "[0.0, 0.0, 0.0, 0.0, 3.0, 1.0, 0.0, 1.0, 1, 3.0, 2.0, 4]\n",
      "[0.0, 1.0, 1.0, 0.0, 0.0, 0.0, 0.0, 0.0, 1, 1.0, 1.0, 4]\n",
      "[0.0, 1.0, 1.0, 1.0, 2.0, 0.0, 1.0, 0.0, 1, 4.0, 2.0, 4]\n",
      "[0.0, 2.0, 0.0, 2.0, 1.0, 0.0, 1.0, 0.0, 1, 2.0, 4.0, 4]\n"
     ]
    }
   ],
   "source": [
    "import StateAggregator as agg\n",
    "import numpy as np\n",
    "\n",
    "problem_set = [\n",
    "    {\"values\": [1, 2, 3, 4], \"weights\": [0.2, 0.4, 0.7, 0.6]},\n",
    "    {\"values\": [5, 7, 1, 4], \"weights\": [0.8, 0.2, 0.1, 0.4]},\n",
    "    {\"values\": [9, 8, 2, 9], \"weights\": [0.7, 0.9, 0.1, 0.1]},\n",
    "    {\"values\": [3, 1, 1, 4], \"weights\": [1.5, 2.0, 0.3, 0.2]}\n",
    "]\n",
    "\n",
    "states = list()\n",
    "for instance in problem_set:\n",
    "    capacity = 1\n",
    "    total_value = 0\n",
    "    total_weight = 0\n",
    "    n_items = 0\n",
    "    row = list()\n",
    "    for i, value in enumerate(instance[\"values\"]):\n",
    "        row += [value]\n",
    "        row += [instance[\"weights\"][i]]\n",
    "        n_items += 1\n",
    "        total_value += value\n",
    "        total_weight += instance[\"weights\"][i]\n",
    "    row += [capacity]\n",
    "    row += [total_value]\n",
    "    row += [total_weight]\n",
    "    row += [n_items]\n",
    "    states += [row]\n",
    "\n",
    "print(\"Input states\")\n",
    "for state in states:\n",
    "    print(state)\n",
    "\n",
    "aggregator = agg.StateAggregator(4)\n",
    "aggregator.train(problem_set, 4)\n",
    "\n",
    "print(\"\\nOutput states\")\n",
    "np.set_printoptions(legacy='1.25')\n",
    "for i, row in enumerate(states):\n",
    "    print(aggregator.aggregate(row, i))\n",
    "\n"
   ]
  }
 ],
 "metadata": {
  "kernelspec": {
   "display_name": ".venv",
   "language": "python",
   "name": "python3"
  },
  "language_info": {
   "codemirror_mode": {
    "name": "ipython",
    "version": 3
   },
   "file_extension": ".py",
   "mimetype": "text/x-python",
   "name": "python",
   "nbconvert_exporter": "python",
   "pygments_lexer": "ipython3",
   "version": "3.12.3"
  }
 },
 "nbformat": 4,
 "nbformat_minor": 5
}
